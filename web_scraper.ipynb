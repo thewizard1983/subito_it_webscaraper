{
  "nbformat": 4,
  "nbformat_minor": 0,
  "metadata": {
    "colab": {
      "name": "Untitled4.ipynb",
      "version": "0.3.2",
      "provenance": [],
      "collapsed_sections": []
    },
    "kernelspec": {
      "name": "python3",
      "display_name": "Python 3"
    }
  },
  "cells": [
    {
      "metadata": {
        "id": "VpPwWpcsOhxU",
        "colab_type": "code",
        "colab": {}
      },
      "cell_type": "code",
      "source": [
        "from bs4 import BeautifulSoup\n",
        "import requests\n",
        "import json\n",
        "from IPython.display import Image, display\n",
        "\n",
        "dove_cercare = \"lecco\"\n",
        "regione_ricerca = \"lombardia\"\n",
        "comune_ricerca = \"\" #insert a city if you want to search within a city. void for searchin in region.\n",
        "if not comune_ricerca:\n",
        "  res = requests.get(\"https://www.subito.it/annunci-\"+regione_ricerca+\"/vendita/usato/\"+dove_cercare+\"/?q=gravel\")\n",
        "else:\n",
        "  res = requests.get(\"https://www.subito.it/annunci-\"+regione_ricerca+\"/vendita/usato/\"+dove_cercare+\"/\"+comune_ricerca+\"/?q=gravel\")\n",
        "\n",
        "soup = BeautifulSoup(res.text, 'html.parser')\n",
        "#print(soup.prettify())\n",
        "\n",
        "script = soup.find_all(\"script\")\n",
        "for s in script:\n",
        "  if \"__NEXT_DATA__\" in str(s):\n",
        "    #print(s)\n",
        "    values = str(s)   \n",
        "    \n",
        "a = str(values)\n",
        "fine = a.find(\"__NEXT_LOADED_PAGES_\")\n",
        "a=(a[24:fine-1])\n",
        "js = json.loads(a)\n",
        "\n",
        "\n",
        "print (\"RICERCA: \" + js[\"props\"][\"state\"][\"search\"][\"query\"])\n",
        "risultati = js[\"props\"][\"state\"][\"items\"][\"list\"]\n",
        "print (\"Numero risultato: \" + str(len(risultati)) + \"\\n\")\n",
        "\n",
        "res = risultati[0][\"item\"]\n",
        "for res in risultati:\n",
        "  print(\"---\\n\")\n",
        "  body = res[\"item\"][\"body\"]\n",
        "  data = res[\"item\"][\"date\"]\n",
        "  prezzo = res[\"item\"][\"features\"][\"/price\"][\"values\"][0][\"value\"]\n",
        "  città = res[\"item\"][\"geo\"][\"city\"][\"value\"]\n",
        "  url = res[\"item\"][\"urls\"][\"default\"]\n",
        "  img = res[\"item\"][\"images\"][0][\"scale\"][4][\"secureuri\"]\n",
        "  print(data +\" \"+città +\"\\n\")\n",
        "  print(str(body))\n",
        "  print(prezzo)\n",
        "  print(\"url: \" + url + \"\\n\")\n",
        "  display(Image(img, width=300, height=300))\n",
        "\n",
        "\n",
        "  "
      ],
      "execution_count": 0,
      "outputs": []
    }
  ]
}